{
  "nbformat": 4,
  "nbformat_minor": 0,
  "metadata": {
    "colab": {
      "name": "Analisisis de sentimientos Twitter.ipynb",
      "provenance": [],
      "authorship_tag": "ABX9TyNd35SrspoG7BLZFlrCuUHH",
      "include_colab_link": true
    },
    "kernelspec": {
      "name": "python3",
      "display_name": "Python 3"
    },
    "language_info": {
      "name": "python"
    }
  },
  "cells": [
    {
      "cell_type": "markdown",
      "metadata": {
        "id": "view-in-github",
        "colab_type": "text"
      },
      "source": [
        "<a href=\"https://colab.research.google.com/github/stalin246/Python/blob/main/Analisisis_De_Sentimientos_Twitter.ipynb\" target=\"_parent\"><img src=\"https://colab.research.google.com/assets/colab-badge.svg\" alt=\"Open In Colab\"/></a>"
      ]
    },
    {
      "cell_type": "markdown",
      "source": [
        "Importamos las librerias que necesitamos"
      ],
      "metadata": {
        "id": "ocDRv_vjCsi6"
      }
    },
    {
      "cell_type": "code",
      "execution_count": 164,
      "metadata": {
        "id": "Ywn45NHrCYcw"
      },
      "outputs": [],
      "source": [
        "import tweepy \n",
        "from textblob import TextBlob \n",
        "from wordcloud import WordCloud\n",
        "import pandas as pd\n",
        "import numpy as np \n",
        "import re\n",
        "import matplotlib.pyplot as plt\n",
        "plt.style.use('fivethirtyeight')"
      ]
    },
    {
      "cell_type": "markdown",
      "source": [
        "Utilizamos los tokens de la api de twitter"
      ],
      "metadata": {
        "id": "f_YtLdVGLHdA"
      }
    },
    {
      "cell_type": "code",
      "source": [
        "consumer_key = 'tu token'\n",
        "consumer_secret = 'tu token'\n",
        "acces_token = 'tu token'\n",
        "acces_t_secret = 'tu token'"
      ],
      "metadata": {
        "id": "S9AHMzFJC0_2"
      },
      "execution_count": 165,
      "outputs": []
    },
    {
      "cell_type": "markdown",
      "source": [
        "Validamos la autenticacion con twitter por medio de nuestro token"
      ],
      "metadata": {
        "id": "QG5xbbvJLRcs"
      }
    },
    {
      "cell_type": "code",
      "source": [
        "authenticate = tweepy.OAuthHandler(consumer_key, consumer_secret)\n",
        "#seteamos los tokens\n",
        "authenticate.set_access_token(acces_token, acces_t_secret)\n",
        "#pasamos la informacion\n",
        "api = tweepy.API(authenticate, wait_on_rate_limit= True)"
      ],
      "metadata": {
        "id": "-O4HdvliDCd6"
      },
      "execution_count": 197,
      "outputs": []
    },
    {
      "cell_type": "markdown",
      "source": [
        "Definimos el idioma e informacion reciente de 100 twets"
      ],
      "metadata": {
        "id": "yaZkP4yALf5g"
      }
    },
    {
      "cell_type": "code",
      "source": [
        "hashtag = api.user_timeline(screen_name='Cuenca', lang='en', tweet_mode='extended', count=100)\n",
        "#hashtag = api.search(q='#Guayaquil', lang='en', result_type='recent', count=100)"
      ],
      "metadata": {
        "id": "VPH9oh4XDFJI"
      },
      "execution_count": 203,
      "outputs": []
    },
    {
      "cell_type": "markdown",
      "source": [
        "Utilizamos un for hasta el final de los hashtag y los mostramos de los 50"
      ],
      "metadata": {
        "id": "v_LkbxruNJxX"
      }
    },
    {
      "cell_type": "code",
      "source": [
        "print('show 50 tweets')\n",
        "i=1\n",
        "for tweet in hashtag[:50]:\n",
        "  print(str(i) + ') ' + tweet.full_text + '\\n')\n",
        "  i += 1"
      ],
      "metadata": {
        "colab": {
          "base_uri": "https://localhost:8080/"
        },
        "id": "oRofbVlQDdHQ",
        "outputId": "c875cdee-b556-44b0-c394-638280bb5b02"
      },
      "execution_count": 204,
      "outputs": [
        {
          "output_type": "stream",
          "name": "stdout",
          "text": [
            "show 50 tweets\n",
            "1) @ssantosv @librerialuces @Ed_delaTorre Lo siento, me era imposible a esa hora 😔 ya te diré qué me parece!\n",
            "\n",
            "2) RT @slidesgo: Nuestras compañeras Carmen Callejón, responsable de Producción, y Rocío Bonachera, responsable de marketing, han visitado hoy…\n",
            "\n",
            "3) @librerialuces @Ed_delaTorre @ssantosv Arg, ni niño tiene partido a esa hora, no creo que llegue a tiempo pero lo intentaré!\n",
            "\n",
            "4) @antor @bquintero Se nota la jet set, además de ordenadores teníais cámaras! 😂😘 estáis muy guapos. Yo conservo mi Amstrad CPC664, pero no esperéis pruebas gráficas de aquella época\n",
            "\n",
            "5) @Jesusvivas11 Quieres hacer la quedada en la oficina?\n",
            "\n",
            "6) @Jesusvivas11 :)\n",
            "\n",
            "7) RT @FreepikCompany: Today is the perfect day to start creating amazing designs 🚀\n",
            "\n",
            "With Wepik, our free online editor, you can design whatev…\n",
            "\n",
            "8) @eduardomanchon @david_bonilla Cuenca... suena noble, no? :)\n",
            "\n",
            "9) @eduardomanchon @david_bonilla “Normal” no es, a mí me juegan una de esas en mi consejo y me dan ganas de coger la escopeta.\n",
            "\n",
            "10) RT @mcaballero: Pedazo de #bonilista la de hoy, digna de artículo principal de opinión dominical en cualquier medio digno\n",
            "https://t.co/g21w…\n",
            "\n",
            "11) Espectacular el relato. Una vergüenza la actuación de estos personajes https://t.co/esatCexyr2\n",
            "\n",
            "12) @MarkHan_ @expo @reactnative These results are surreal. I naively thought the bottleneck was the network. Is really the time spent fetching packages such a little % of total install time in npm/yarn, or is bum doing tricks here to fetch packages faster?\n",
            "\n",
            "13) Eso son niños que no van a estudiar lo que les apasiona. Espero que el nuevo grado con AI y Ciberseguridad tenga una fuerte demanda, y una oferta a la altura de esa demanda\n",
            "\n",
            "14) Hay métricas que hay que celebrar cuando mejoran, y preocuparse cuando mejoran demasiado. Una mejora en la nota de corte es más gente interesada. Ser la nota de corte más alta es que la UMA se ha quedado muy muy corta en las plazas ofertadas https://t.co/8glU3pK2k8\n",
            "\n",
            "15) RT @FreepikCompany: We are very happy to share with you our brand new Business-to-Business (B2B) landing! 🚀\n",
            "\n",
            "If you need to integrate API @…\n",
            "\n",
            "16) @sampat4 @DCognitivos @SandraFerrerV La gente moría por enfermedades relacionadas con la vejez más o menos como ahora. La edad media tan baja de antes no era porque se hiciesen viejos antes, era porque había mucha mortandad infantil y mucho joven muriendo de guerras y enfermedades\n",
            "\n",
            "17) Tremendo, hablan de Dall-E pero ponen imágenes de “Dall-e mini”, que no tiene NADA que ver (ahora se llama craiyon). Acusan en el titular de hacer dibujos sexistas y racistas a un software mirando lo que dibuja otro. ⁦@elpais_tec⁩ https://t.co/ymBd2YCQAf\n",
            "\n",
            "18) @victorianoi @iia_es @DotCSV @samuelgil @ArthurJulius @blanaspa @antmari69 Una pena no haber podido estar, abrazos a todos!\n",
            "\n",
            "19) @martinleblanc Love it! Part of the season felt a bit disconnected from previous seasons, but they IMO they tied it pretty well at the end\n",
            "\n",
            "20) RT @Swipeline_Media: Freepik, one of the fastest growing European companies according to Financial Times, has acquired stock videos and mot…\n",
            "\n",
            "21) RT @xataka: Freepik compra a la biblioteca de vídeos Videvo para consolidarse como la gran suite para profesionales creativos https://t.co/…\n",
            "\n",
            "22) RT @antonello: Pues Freepik sigue dando pasos adelante comprando la británica Videvo\n",
            "\n",
            "congrats a @cuenca Alejandro Sánchez y cía\n",
            "\n",
            "https://t…\n",
            "\n",
            "23) RT @josevirodriguez: Un placer poder charlar con @Cuenca de @FreepikCompany, uno de los mayores exponentes de la exitosa #Málaga tecnológic…\n",
            "\n",
            "24) RT @arrola: https://t.co/gTWypa56c0\n",
            "\n",
            "25) RT @FreepikCompany: #Malaga is hosting @DES_show, the world's major event on #DigitalTransformation, and #FreepikCompany could not miss it…\n",
            "\n",
            "26) RT @FreepikCompany: ¡Vuelve #InspiringMeetingsAtFreepikCompany!🎉\n",
            "\n",
            "El jueves 16 @victorianoi, CEO de @graphext, nos hablará de la importanci…\n",
            "\n",
            "27) @bquintero @davidbuenov Pues gracias a los dos, me lo acabo de ver, estamos nostálgicos…\n",
            "\n",
            "28) @FeuillesMille @LaMalagaModerna @ELuqueDo @PepeDamianRS Precisamente, mi punto es que si hay tanta demanda y es es una profesión con mucha salida no veo el inconveniente de aumentar plazas (con más profesorado, etc).\n",
            "\n",
            "29) Un hilo fantástico sobre librerías en Madrid! Sin tanta historia, hace poco pase por la librería Recode en Calle Victoria (Málaga). La señora que atiende encantadora. Una de esas experiencias que desgraciadamente se pierden con la digitalización 😔 https://t.co/mpScmHgr91\n",
            "\n",
            "30) [SPOILER OBI-WAN]\n",
            "\n",
            "El encuentro entre Darth Vader y Obi Wan ¿no os parece que le quita el sentido a lo que le dice DV a OW en el Ep4? Rollo “la última vez que nos vimos tú eras el maestro y yo el alumno…”\n",
            "\n",
            "31) @angeldelosrios Ánimo, volverás a dormir!\n",
            "\n",
            "32) @Lurquizu Y lo a gusto que se queda uno cuando habla bien? 😂😂😂\n",
            "\n",
            "33) @iia_es @ivanprado @FreepikCompany De qué nos estabamos riendo? Only wrong answers…\n",
            "\n",
            "34) RT @iia_es: ¿Cómo afecta a las empresas la irrupción de los grandes modelos de #IA? Debatimos sobre ello en la pasada clase del #masterIIA…\n",
            "\n",
            "35) RT @freepik: 🫵 Here are some of the most trending #fonts you can find on Freepik’s website for your #designs. 🔝 🚀 https://t.co/GCkwTFz7Zl\n",
            "\n",
            "36) RT @Medicilio: Igual me llueven hostias por esto.\n",
            "\n",
            "Pero esta señora que han indultado no quedó probado que había tenido a su hijo durante d…\n",
            "\n",
            "37) @martinleblanc That also works in BigQuery, super handy\n",
            "\n",
            "38) @totofuentes @bquintero Es verdad, me han pillado a traición en todas!!\n",
            "\n",
            "39) RT @tomfgoodwin: GDPR is a rare example to a terrible solution to a problem nobody really had or cared about, that ended up making everythi…\n",
            "\n",
            "40) RT @FreepikCompany: Nuestro CEO, @cuenca resume en #FábricaVictoria la clave de sus éxitos empresariales \"tener unos socios geniales y cent…\n",
            "\n",
            "41) Se puede decir más alto pero no más claro. A nosotros esta ley nos condicionó en el proceso de venta de Freepik, tiene un alcance surrealista https://t.co/IiO1bkgq9J\n",
            "\n",
            "42) @bquintero opinión poco popular: y si se habilitan más plazas para que bajen las notas y pueda entrar quién quiera?\n",
            "\n",
            "43) RT @antor: ¿Cómo impactará DALL-E 2 en el arte, la creatividad, los sitios de descarga imágenes, fotografía artística, etc?\n",
            "\n",
            "Sintonicen pró…\n",
            "\n",
            "44) @JoseleBernabe @LaMalagaModerna Por aclarar el mensaje, @LaMalagaModerna fue quién recibió el merecido reconocimiento por su patrocinio. Yo solo me tomé una copa 🥃\n",
            "\n",
            "45) Hay gente que me ha felicitado por los @malagatechgames, pero de parte de @freepik hay que felicitar a Amanda, Kaajal y a todo el equipo de RRHH por la excelente organización, y a todos los jugadore/as. Habéis estado extraordinarios, espero que os lo hayáis pasado genial!\n",
            "\n",
            "46) @bquintero @ManuHeredia21 @kikesalvatierra @virustotal @besoccer_ES @BeSoccerPro @luishg Yo sí que he estado sobre la hora de la comida, pero no os he visto a los demás\n",
            "\n",
            "47) Esto es una locura https://t.co/NJvcqqO1GT\n",
            "\n",
            "48) @NuriaTriguero @bquintero Y además puedes empalmar con una tarta de queso del Sr. Nilsson, que está al lado. Es todo perfecto\n",
            "\n",
            "49) @BertaGdVega @BibliotecasMlg ¿Dónde está (o estará)?\n",
            "\n",
            "50) RT @Jarillo_Herrero: Today I got one of those amazing phone calls... Really happy and honored to have been elected to the US National Acade…\n",
            "\n"
          ]
        }
      ]
    },
    {
      "cell_type": "markdown",
      "source": [
        "Creamos un dataframe con pandas bajo la columna Tweets y un id"
      ],
      "metadata": {
        "id": "JUm1HaODNY2t"
      }
    },
    {
      "cell_type": "code",
      "source": [
        "df = pd.DataFrame([tweet.full_text for tweet in hashtag], columns=['Tweets'])\n",
        "df.head(10)"
      ],
      "metadata": {
        "colab": {
          "base_uri": "https://localhost:8080/",
          "height": 363
        },
        "id": "FtmVybnzEWPV",
        "outputId": "ea31df0d-44e4-47b7-8a80-f86fbef7e969"
      },
      "execution_count": 205,
      "outputs": [
        {
          "output_type": "execute_result",
          "data": {
            "text/plain": [
              "                                              Tweets\n",
              "0  @ssantosv @librerialuces @Ed_delaTorre Lo sien...\n",
              "1  RT @slidesgo: Nuestras compañeras Carmen Calle...\n",
              "2  @librerialuces @Ed_delaTorre @ssantosv Arg, ni...\n",
              "3  @antor @bquintero Se nota la jet set, además d...\n",
              "4  @Jesusvivas11 Quieres hacer la quedada en la o...\n",
              "5                                   @Jesusvivas11 :)\n",
              "6  RT @FreepikCompany: Today is the perfect day t...\n",
              "7  @eduardomanchon @david_bonilla Cuenca... suena...\n",
              "8  @eduardomanchon @david_bonilla “Normal” no es,...\n",
              "9  RT @mcaballero: Pedazo de #bonilista la de hoy..."
            ],
            "text/html": [
              "\n",
              "  <div id=\"df-32c30ead-1f5f-4ae2-be44-cbf799337c29\">\n",
              "    <div class=\"colab-df-container\">\n",
              "      <div>\n",
              "<style scoped>\n",
              "    .dataframe tbody tr th:only-of-type {\n",
              "        vertical-align: middle;\n",
              "    }\n",
              "\n",
              "    .dataframe tbody tr th {\n",
              "        vertical-align: top;\n",
              "    }\n",
              "\n",
              "    .dataframe thead th {\n",
              "        text-align: right;\n",
              "    }\n",
              "</style>\n",
              "<table border=\"1\" class=\"dataframe\">\n",
              "  <thead>\n",
              "    <tr style=\"text-align: right;\">\n",
              "      <th></th>\n",
              "      <th>Tweets</th>\n",
              "    </tr>\n",
              "  </thead>\n",
              "  <tbody>\n",
              "    <tr>\n",
              "      <th>0</th>\n",
              "      <td>@ssantosv @librerialuces @Ed_delaTorre Lo sien...</td>\n",
              "    </tr>\n",
              "    <tr>\n",
              "      <th>1</th>\n",
              "      <td>RT @slidesgo: Nuestras compañeras Carmen Calle...</td>\n",
              "    </tr>\n",
              "    <tr>\n",
              "      <th>2</th>\n",
              "      <td>@librerialuces @Ed_delaTorre @ssantosv Arg, ni...</td>\n",
              "    </tr>\n",
              "    <tr>\n",
              "      <th>3</th>\n",
              "      <td>@antor @bquintero Se nota la jet set, además d...</td>\n",
              "    </tr>\n",
              "    <tr>\n",
              "      <th>4</th>\n",
              "      <td>@Jesusvivas11 Quieres hacer la quedada en la o...</td>\n",
              "    </tr>\n",
              "    <tr>\n",
              "      <th>5</th>\n",
              "      <td>@Jesusvivas11 :)</td>\n",
              "    </tr>\n",
              "    <tr>\n",
              "      <th>6</th>\n",
              "      <td>RT @FreepikCompany: Today is the perfect day t...</td>\n",
              "    </tr>\n",
              "    <tr>\n",
              "      <th>7</th>\n",
              "      <td>@eduardomanchon @david_bonilla Cuenca... suena...</td>\n",
              "    </tr>\n",
              "    <tr>\n",
              "      <th>8</th>\n",
              "      <td>@eduardomanchon @david_bonilla “Normal” no es,...</td>\n",
              "    </tr>\n",
              "    <tr>\n",
              "      <th>9</th>\n",
              "      <td>RT @mcaballero: Pedazo de #bonilista la de hoy...</td>\n",
              "    </tr>\n",
              "  </tbody>\n",
              "</table>\n",
              "</div>\n",
              "      <button class=\"colab-df-convert\" onclick=\"convertToInteractive('df-32c30ead-1f5f-4ae2-be44-cbf799337c29')\"\n",
              "              title=\"Convert this dataframe to an interactive table.\"\n",
              "              style=\"display:none;\">\n",
              "        \n",
              "  <svg xmlns=\"http://www.w3.org/2000/svg\" height=\"24px\"viewBox=\"0 0 24 24\"\n",
              "       width=\"24px\">\n",
              "    <path d=\"M0 0h24v24H0V0z\" fill=\"none\"/>\n",
              "    <path d=\"M18.56 5.44l.94 2.06.94-2.06 2.06-.94-2.06-.94-.94-2.06-.94 2.06-2.06.94zm-11 1L8.5 8.5l.94-2.06 2.06-.94-2.06-.94L8.5 2.5l-.94 2.06-2.06.94zm10 10l.94 2.06.94-2.06 2.06-.94-2.06-.94-.94-2.06-.94 2.06-2.06.94z\"/><path d=\"M17.41 7.96l-1.37-1.37c-.4-.4-.92-.59-1.43-.59-.52 0-1.04.2-1.43.59L10.3 9.45l-7.72 7.72c-.78.78-.78 2.05 0 2.83L4 21.41c.39.39.9.59 1.41.59.51 0 1.02-.2 1.41-.59l7.78-7.78 2.81-2.81c.8-.78.8-2.07 0-2.86zM5.41 20L4 18.59l7.72-7.72 1.47 1.35L5.41 20z\"/>\n",
              "  </svg>\n",
              "      </button>\n",
              "      \n",
              "  <style>\n",
              "    .colab-df-container {\n",
              "      display:flex;\n",
              "      flex-wrap:wrap;\n",
              "      gap: 12px;\n",
              "    }\n",
              "\n",
              "    .colab-df-convert {\n",
              "      background-color: #E8F0FE;\n",
              "      border: none;\n",
              "      border-radius: 50%;\n",
              "      cursor: pointer;\n",
              "      display: none;\n",
              "      fill: #1967D2;\n",
              "      height: 32px;\n",
              "      padding: 0 0 0 0;\n",
              "      width: 32px;\n",
              "    }\n",
              "\n",
              "    .colab-df-convert:hover {\n",
              "      background-color: #E2EBFA;\n",
              "      box-shadow: 0px 1px 2px rgba(60, 64, 67, 0.3), 0px 1px 3px 1px rgba(60, 64, 67, 0.15);\n",
              "      fill: #174EA6;\n",
              "    }\n",
              "\n",
              "    [theme=dark] .colab-df-convert {\n",
              "      background-color: #3B4455;\n",
              "      fill: #D2E3FC;\n",
              "    }\n",
              "\n",
              "    [theme=dark] .colab-df-convert:hover {\n",
              "      background-color: #434B5C;\n",
              "      box-shadow: 0px 1px 3px 1px rgba(0, 0, 0, 0.15);\n",
              "      filter: drop-shadow(0px 1px 2px rgba(0, 0, 0, 0.3));\n",
              "      fill: #FFFFFF;\n",
              "    }\n",
              "  </style>\n",
              "\n",
              "      <script>\n",
              "        const buttonEl =\n",
              "          document.querySelector('#df-32c30ead-1f5f-4ae2-be44-cbf799337c29 button.colab-df-convert');\n",
              "        buttonEl.style.display =\n",
              "          google.colab.kernel.accessAllowed ? 'block' : 'none';\n",
              "\n",
              "        async function convertToInteractive(key) {\n",
              "          const element = document.querySelector('#df-32c30ead-1f5f-4ae2-be44-cbf799337c29');\n",
              "          const dataTable =\n",
              "            await google.colab.kernel.invokeFunction('convertToInteractive',\n",
              "                                                     [key], {});\n",
              "          if (!dataTable) return;\n",
              "\n",
              "          const docLinkHtml = 'Like what you see? Visit the ' +\n",
              "            '<a target=\"_blank\" href=https://colab.research.google.com/notebooks/data_table.ipynb>data table notebook</a>'\n",
              "            + ' to learn more about interactive tables.';\n",
              "          element.innerHTML = '';\n",
              "          dataTable['output_type'] = 'display_data';\n",
              "          await google.colab.output.renderOutput(dataTable, element);\n",
              "          const docLink = document.createElement('div');\n",
              "          docLink.innerHTML = docLinkHtml;\n",
              "          element.appendChild(docLink);\n",
              "        }\n",
              "      </script>\n",
              "    </div>\n",
              "  </div>\n",
              "  "
            ]
          },
          "metadata": {},
          "execution_count": 205
        }
      ]
    },
    {
      "cell_type": "markdown",
      "source": [
        "Limpiamos nuestro dataframe de ciertos caracteres que no necesitaremos"
      ],
      "metadata": {
        "id": "e0dFJ3G0NiF6"
      }
    },
    {
      "cell_type": "code",
      "source": [
        "#utilizamos una funcion para limpiar cada registro\n",
        "def clean_text(text):\n",
        "  text = re.sub(r'@[A-Za-z09]+', '', text)\n",
        "  text = re.sub(r'#', '', text)\n",
        "  text = re.sub(r'_', '', text)\n",
        "  text = re.sub(r'\\n', '', text)\n",
        "  text = re.sub(r':', '', text)\n",
        "  text = re.sub(r'RT[\\s]+', '', text)\n",
        "  text = re.sub(r'https?:\\/\\/?', '', text)\n",
        "#retornamos nuestra variable\n",
        "  return text\n",
        "#utilizamos nuestra funcion en nuestro dataframe \"df\"\n",
        "df['Tweets'] = df['Tweets'].apply(clean_text)\n",
        "df.head(10)"
      ],
      "metadata": {
        "colab": {
          "base_uri": "https://localhost:8080/",
          "height": 363
        },
        "id": "amN8D6JLEc2R",
        "outputId": "5a628ea6-690b-431a-8cae-146435a07c75"
      },
      "execution_count": 206,
      "outputs": [
        {
          "output_type": "execute_result",
          "data": {
            "text/plain": [
              "                                              Tweets\n",
              "0    delaTorre Lo siento, me era imposible a esa ...\n",
              "1  Nuestras compañeras Carmen Callejón, responsab...\n",
              "2   delaTorre  Arg, ni niño tiene partido a esa h...\n",
              "3    Se nota la jet set, además de ordenadores te...\n",
              "4         11 Quieres hacer la quedada en la oficina?\n",
              "5                                               11 )\n",
              "6  Today is the perfect day to start creating ama...\n",
              "7               bonilla Cuenca... suena noble, no? )\n",
              "8   bonilla “Normal” no es, a mí me juegan una de...\n",
              "9  Pedazo de bonilista la de hoy, digna de artícu..."
            ],
            "text/html": [
              "\n",
              "  <div id=\"df-a5233461-4717-4a8c-b70b-a516e242864f\">\n",
              "    <div class=\"colab-df-container\">\n",
              "      <div>\n",
              "<style scoped>\n",
              "    .dataframe tbody tr th:only-of-type {\n",
              "        vertical-align: middle;\n",
              "    }\n",
              "\n",
              "    .dataframe tbody tr th {\n",
              "        vertical-align: top;\n",
              "    }\n",
              "\n",
              "    .dataframe thead th {\n",
              "        text-align: right;\n",
              "    }\n",
              "</style>\n",
              "<table border=\"1\" class=\"dataframe\">\n",
              "  <thead>\n",
              "    <tr style=\"text-align: right;\">\n",
              "      <th></th>\n",
              "      <th>Tweets</th>\n",
              "    </tr>\n",
              "  </thead>\n",
              "  <tbody>\n",
              "    <tr>\n",
              "      <th>0</th>\n",
              "      <td>delaTorre Lo siento, me era imposible a esa ...</td>\n",
              "    </tr>\n",
              "    <tr>\n",
              "      <th>1</th>\n",
              "      <td>Nuestras compañeras Carmen Callejón, responsab...</td>\n",
              "    </tr>\n",
              "    <tr>\n",
              "      <th>2</th>\n",
              "      <td>delaTorre  Arg, ni niño tiene partido a esa h...</td>\n",
              "    </tr>\n",
              "    <tr>\n",
              "      <th>3</th>\n",
              "      <td>Se nota la jet set, además de ordenadores te...</td>\n",
              "    </tr>\n",
              "    <tr>\n",
              "      <th>4</th>\n",
              "      <td>11 Quieres hacer la quedada en la oficina?</td>\n",
              "    </tr>\n",
              "    <tr>\n",
              "      <th>5</th>\n",
              "      <td>11 )</td>\n",
              "    </tr>\n",
              "    <tr>\n",
              "      <th>6</th>\n",
              "      <td>Today is the perfect day to start creating ama...</td>\n",
              "    </tr>\n",
              "    <tr>\n",
              "      <th>7</th>\n",
              "      <td>bonilla Cuenca... suena noble, no? )</td>\n",
              "    </tr>\n",
              "    <tr>\n",
              "      <th>8</th>\n",
              "      <td>bonilla “Normal” no es, a mí me juegan una de...</td>\n",
              "    </tr>\n",
              "    <tr>\n",
              "      <th>9</th>\n",
              "      <td>Pedazo de bonilista la de hoy, digna de artícu...</td>\n",
              "    </tr>\n",
              "  </tbody>\n",
              "</table>\n",
              "</div>\n",
              "      <button class=\"colab-df-convert\" onclick=\"convertToInteractive('df-a5233461-4717-4a8c-b70b-a516e242864f')\"\n",
              "              title=\"Convert this dataframe to an interactive table.\"\n",
              "              style=\"display:none;\">\n",
              "        \n",
              "  <svg xmlns=\"http://www.w3.org/2000/svg\" height=\"24px\"viewBox=\"0 0 24 24\"\n",
              "       width=\"24px\">\n",
              "    <path d=\"M0 0h24v24H0V0z\" fill=\"none\"/>\n",
              "    <path d=\"M18.56 5.44l.94 2.06.94-2.06 2.06-.94-2.06-.94-.94-2.06-.94 2.06-2.06.94zm-11 1L8.5 8.5l.94-2.06 2.06-.94-2.06-.94L8.5 2.5l-.94 2.06-2.06.94zm10 10l.94 2.06.94-2.06 2.06-.94-2.06-.94-.94-2.06-.94 2.06-2.06.94z\"/><path d=\"M17.41 7.96l-1.37-1.37c-.4-.4-.92-.59-1.43-.59-.52 0-1.04.2-1.43.59L10.3 9.45l-7.72 7.72c-.78.78-.78 2.05 0 2.83L4 21.41c.39.39.9.59 1.41.59.51 0 1.02-.2 1.41-.59l7.78-7.78 2.81-2.81c.8-.78.8-2.07 0-2.86zM5.41 20L4 18.59l7.72-7.72 1.47 1.35L5.41 20z\"/>\n",
              "  </svg>\n",
              "      </button>\n",
              "      \n",
              "  <style>\n",
              "    .colab-df-container {\n",
              "      display:flex;\n",
              "      flex-wrap:wrap;\n",
              "      gap: 12px;\n",
              "    }\n",
              "\n",
              "    .colab-df-convert {\n",
              "      background-color: #E8F0FE;\n",
              "      border: none;\n",
              "      border-radius: 50%;\n",
              "      cursor: pointer;\n",
              "      display: none;\n",
              "      fill: #1967D2;\n",
              "      height: 32px;\n",
              "      padding: 0 0 0 0;\n",
              "      width: 32px;\n",
              "    }\n",
              "\n",
              "    .colab-df-convert:hover {\n",
              "      background-color: #E2EBFA;\n",
              "      box-shadow: 0px 1px 2px rgba(60, 64, 67, 0.3), 0px 1px 3px 1px rgba(60, 64, 67, 0.15);\n",
              "      fill: #174EA6;\n",
              "    }\n",
              "\n",
              "    [theme=dark] .colab-df-convert {\n",
              "      background-color: #3B4455;\n",
              "      fill: #D2E3FC;\n",
              "    }\n",
              "\n",
              "    [theme=dark] .colab-df-convert:hover {\n",
              "      background-color: #434B5C;\n",
              "      box-shadow: 0px 1px 3px 1px rgba(0, 0, 0, 0.15);\n",
              "      filter: drop-shadow(0px 1px 2px rgba(0, 0, 0, 0.3));\n",
              "      fill: #FFFFFF;\n",
              "    }\n",
              "  </style>\n",
              "\n",
              "      <script>\n",
              "        const buttonEl =\n",
              "          document.querySelector('#df-a5233461-4717-4a8c-b70b-a516e242864f button.colab-df-convert');\n",
              "        buttonEl.style.display =\n",
              "          google.colab.kernel.accessAllowed ? 'block' : 'none';\n",
              "\n",
              "        async function convertToInteractive(key) {\n",
              "          const element = document.querySelector('#df-a5233461-4717-4a8c-b70b-a516e242864f');\n",
              "          const dataTable =\n",
              "            await google.colab.kernel.invokeFunction('convertToInteractive',\n",
              "                                                     [key], {});\n",
              "          if (!dataTable) return;\n",
              "\n",
              "          const docLinkHtml = 'Like what you see? Visit the ' +\n",
              "            '<a target=\"_blank\" href=https://colab.research.google.com/notebooks/data_table.ipynb>data table notebook</a>'\n",
              "            + ' to learn more about interactive tables.';\n",
              "          element.innerHTML = '';\n",
              "          dataTable['output_type'] = 'display_data';\n",
              "          await google.colab.output.renderOutput(dataTable, element);\n",
              "          const docLink = document.createElement('div');\n",
              "          docLink.innerHTML = docLinkHtml;\n",
              "          element.appendChild(docLink);\n",
              "        }\n",
              "      </script>\n",
              "    </div>\n",
              "  </div>\n",
              "  "
            ]
          },
          "metadata": {},
          "execution_count": 206
        }
      ]
    },
    {
      "cell_type": "markdown",
      "source": [
        "Realizamos el analisis deacuerdo al analisis de sentimiento recordando lo siguiente:\n",
        "\n",
        "**Polaridad** hace referencia a cómo positivo o negativo el tono de las tasas de texto de entrada de -1 a + 1, por -1 son más negativo y + 1 está más positiva. \n",
        "\n",
        "**Subjetividad** hace referencia a cómo subjetiva las tasas de instrucción de 0 a 1, siendo 1 el alta subjetiva."
      ],
      "metadata": {
        "id": "swj81Vz2ORa0"
      }
    },
    {
      "cell_type": "code",
      "source": [
        "#utilizamos una funcion mediante ya el metodo de sentimiento->subjetividad\n",
        "def get_subjectivity(text):\n",
        "  return TextBlob(text).sentiment.subjectivity\n",
        " # return TextBlob(text).translate(from_lang='es',to='en').sentiment.subjectivity\n",
        "  return TextBlob(text).sentiment.subjectivity\n",
        "\n",
        "#utilizamos una funcion mediante ya el metodo de sentimiento->polaridad\n",
        "def get_polarity(text):\n",
        "   return TextBlob(text).sentiment.polarity\n",
        "  #return TextBlob(text).translate(from_lang='es',to='en').sentiment.polarity"
      ],
      "metadata": {
        "id": "StWkj8H6FfYn"
      },
      "execution_count": 207,
      "outputs": []
    },
    {
      "cell_type": "markdown",
      "source": [
        "Definimos las columnas que tendra el dataframe segun la subjetividad y polaridad"
      ],
      "metadata": {
        "id": "i0Zt-LuYPr91"
      }
    },
    {
      "cell_type": "code",
      "source": [
        "df['Subjectivity'] = df['Tweets'].apply(get_subjectivity)\n",
        "df['Polarity'] = df['Tweets'].apply(get_polarity)\n",
        "df.head()"
      ],
      "metadata": {
        "colab": {
          "base_uri": "https://localhost:8080/",
          "height": 206
        },
        "id": "ffuazos-F6oh",
        "outputId": "8fee80e9-4d67-49ec-8545-6b209f26cc44"
      },
      "execution_count": 208,
      "outputs": [
        {
          "output_type": "execute_result",
          "data": {
            "text/plain": [
              "                                              Tweets  Subjectivity  Polarity\n",
              "0    delaTorre Lo siento, me era imposible a esa ...           0.0       0.0\n",
              "1  Nuestras compañeras Carmen Callejón, responsab...           0.0       0.0\n",
              "2   delaTorre  Arg, ni niño tiene partido a esa h...           0.0       0.0\n",
              "3    Se nota la jet set, además de ordenadores te...           0.0       0.0\n",
              "4         11 Quieres hacer la quedada en la oficina?           0.0       0.0"
            ],
            "text/html": [
              "\n",
              "  <div id=\"df-d3ab68f8-cc67-4692-ad9f-7bcc87c00e1d\">\n",
              "    <div class=\"colab-df-container\">\n",
              "      <div>\n",
              "<style scoped>\n",
              "    .dataframe tbody tr th:only-of-type {\n",
              "        vertical-align: middle;\n",
              "    }\n",
              "\n",
              "    .dataframe tbody tr th {\n",
              "        vertical-align: top;\n",
              "    }\n",
              "\n",
              "    .dataframe thead th {\n",
              "        text-align: right;\n",
              "    }\n",
              "</style>\n",
              "<table border=\"1\" class=\"dataframe\">\n",
              "  <thead>\n",
              "    <tr style=\"text-align: right;\">\n",
              "      <th></th>\n",
              "      <th>Tweets</th>\n",
              "      <th>Subjectivity</th>\n",
              "      <th>Polarity</th>\n",
              "    </tr>\n",
              "  </thead>\n",
              "  <tbody>\n",
              "    <tr>\n",
              "      <th>0</th>\n",
              "      <td>delaTorre Lo siento, me era imposible a esa ...</td>\n",
              "      <td>0.0</td>\n",
              "      <td>0.0</td>\n",
              "    </tr>\n",
              "    <tr>\n",
              "      <th>1</th>\n",
              "      <td>Nuestras compañeras Carmen Callejón, responsab...</td>\n",
              "      <td>0.0</td>\n",
              "      <td>0.0</td>\n",
              "    </tr>\n",
              "    <tr>\n",
              "      <th>2</th>\n",
              "      <td>delaTorre  Arg, ni niño tiene partido a esa h...</td>\n",
              "      <td>0.0</td>\n",
              "      <td>0.0</td>\n",
              "    </tr>\n",
              "    <tr>\n",
              "      <th>3</th>\n",
              "      <td>Se nota la jet set, además de ordenadores te...</td>\n",
              "      <td>0.0</td>\n",
              "      <td>0.0</td>\n",
              "    </tr>\n",
              "    <tr>\n",
              "      <th>4</th>\n",
              "      <td>11 Quieres hacer la quedada en la oficina?</td>\n",
              "      <td>0.0</td>\n",
              "      <td>0.0</td>\n",
              "    </tr>\n",
              "  </tbody>\n",
              "</table>\n",
              "</div>\n",
              "      <button class=\"colab-df-convert\" onclick=\"convertToInteractive('df-d3ab68f8-cc67-4692-ad9f-7bcc87c00e1d')\"\n",
              "              title=\"Convert this dataframe to an interactive table.\"\n",
              "              style=\"display:none;\">\n",
              "        \n",
              "  <svg xmlns=\"http://www.w3.org/2000/svg\" height=\"24px\"viewBox=\"0 0 24 24\"\n",
              "       width=\"24px\">\n",
              "    <path d=\"M0 0h24v24H0V0z\" fill=\"none\"/>\n",
              "    <path d=\"M18.56 5.44l.94 2.06.94-2.06 2.06-.94-2.06-.94-.94-2.06-.94 2.06-2.06.94zm-11 1L8.5 8.5l.94-2.06 2.06-.94-2.06-.94L8.5 2.5l-.94 2.06-2.06.94zm10 10l.94 2.06.94-2.06 2.06-.94-2.06-.94-.94-2.06-.94 2.06-2.06.94z\"/><path d=\"M17.41 7.96l-1.37-1.37c-.4-.4-.92-.59-1.43-.59-.52 0-1.04.2-1.43.59L10.3 9.45l-7.72 7.72c-.78.78-.78 2.05 0 2.83L4 21.41c.39.39.9.59 1.41.59.51 0 1.02-.2 1.41-.59l7.78-7.78 2.81-2.81c.8-.78.8-2.07 0-2.86zM5.41 20L4 18.59l7.72-7.72 1.47 1.35L5.41 20z\"/>\n",
              "  </svg>\n",
              "      </button>\n",
              "      \n",
              "  <style>\n",
              "    .colab-df-container {\n",
              "      display:flex;\n",
              "      flex-wrap:wrap;\n",
              "      gap: 12px;\n",
              "    }\n",
              "\n",
              "    .colab-df-convert {\n",
              "      background-color: #E8F0FE;\n",
              "      border: none;\n",
              "      border-radius: 50%;\n",
              "      cursor: pointer;\n",
              "      display: none;\n",
              "      fill: #1967D2;\n",
              "      height: 32px;\n",
              "      padding: 0 0 0 0;\n",
              "      width: 32px;\n",
              "    }\n",
              "\n",
              "    .colab-df-convert:hover {\n",
              "      background-color: #E2EBFA;\n",
              "      box-shadow: 0px 1px 2px rgba(60, 64, 67, 0.3), 0px 1px 3px 1px rgba(60, 64, 67, 0.15);\n",
              "      fill: #174EA6;\n",
              "    }\n",
              "\n",
              "    [theme=dark] .colab-df-convert {\n",
              "      background-color: #3B4455;\n",
              "      fill: #D2E3FC;\n",
              "    }\n",
              "\n",
              "    [theme=dark] .colab-df-convert:hover {\n",
              "      background-color: #434B5C;\n",
              "      box-shadow: 0px 1px 3px 1px rgba(0, 0, 0, 0.15);\n",
              "      filter: drop-shadow(0px 1px 2px rgba(0, 0, 0, 0.3));\n",
              "      fill: #FFFFFF;\n",
              "    }\n",
              "  </style>\n",
              "\n",
              "      <script>\n",
              "        const buttonEl =\n",
              "          document.querySelector('#df-d3ab68f8-cc67-4692-ad9f-7bcc87c00e1d button.colab-df-convert');\n",
              "        buttonEl.style.display =\n",
              "          google.colab.kernel.accessAllowed ? 'block' : 'none';\n",
              "\n",
              "        async function convertToInteractive(key) {\n",
              "          const element = document.querySelector('#df-d3ab68f8-cc67-4692-ad9f-7bcc87c00e1d');\n",
              "          const dataTable =\n",
              "            await google.colab.kernel.invokeFunction('convertToInteractive',\n",
              "                                                     [key], {});\n",
              "          if (!dataTable) return;\n",
              "\n",
              "          const docLinkHtml = 'Like what you see? Visit the ' +\n",
              "            '<a target=\"_blank\" href=https://colab.research.google.com/notebooks/data_table.ipynb>data table notebook</a>'\n",
              "            + ' to learn more about interactive tables.';\n",
              "          element.innerHTML = '';\n",
              "          dataTable['output_type'] = 'display_data';\n",
              "          await google.colab.output.renderOutput(dataTable, element);\n",
              "          const docLink = document.createElement('div');\n",
              "          docLink.innerHTML = docLinkHtml;\n",
              "          element.appendChild(docLink);\n",
              "        }\n",
              "      </script>\n",
              "    </div>\n",
              "  </div>\n",
              "  "
            ]
          },
          "metadata": {},
          "execution_count": 208
        }
      ]
    },
    {
      "cell_type": "markdown",
      "source": [
        "Utilizamos una grafica para representar las palabras mas usadas"
      ],
      "metadata": {
        "id": "zH1TMRu0Qa9V"
      }
    },
    {
      "cell_type": "code",
      "source": [
        "all_words = ' '.join( [twts for twts in df['Tweets']])\n",
        "#Establecemos el modelo que tendra la grafica\n",
        "word_Cloud = WordCloud(width=1080, height=720, random_state=21, max_font_size=119).generate(all_words)\n",
        "#Definimos el tipo de interpolacion\n",
        "plt.imshow(word_Cloud, interpolation='bilinear')\n",
        "plt.axis('off')\n",
        "plt.show()"
      ],
      "metadata": {
        "colab": {
          "base_uri": "https://localhost:8080/",
          "height": 264
        },
        "id": "W0lDca61H0A_",
        "outputId": "1fe78e92-0316-4648-8f63-dafe62918414"
      },
      "execution_count": 209,
      "outputs": [
        {
          "output_type": "display_data",
          "data": {
            "text/plain": [
              "<Figure size 432x288 with 1 Axes>"
            ],
            "image/png": "[encoded data removed]"
          },
          "metadata": {}
        }
      ]
    },
    {
      "cell_type": "markdown",
      "source": [
        "Establecemos la subjetividad y polaridad, tambien establecemos el analisis deacuerdo a las condiciones que mencionamos antes, todas ellas ubicadas ya en columnas en nuestro dataframe"
      ],
      "metadata": {
        "id": "we2tvPbbS14Q"
      }
    },
    {
      "cell_type": "code",
      "source": [
        "def analysis(score):\n",
        "  if score < 0:\n",
        "    return 'Negative'\n",
        "  # elif score == 0:\n",
        "  #   return 'Neutral'\n",
        "  # else:\n",
        "  #   return 'Positive'\n",
        "  elif score > 0:\n",
        "    return 'Positive'\n",
        "\n",
        "df['Analysis'] = df['Polarity'].apply(analysis)\n",
        "\n",
        "df"
      ],
      "metadata": {
        "colab": {
          "base_uri": "https://localhost:8080/",
          "height": 423
        },
        "id": "nWleuylCH_WH",
        "outputId": "0f8d3133-72e9-4441-8368-29dd2bb3da9e"
      },
      "execution_count": 210,
      "outputs": [
        {
          "output_type": "execute_result",
          "data": {
            "text/plain": [
              "                                               Tweets  Subjectivity  Polarity  \\\n",
              "0     delaTorre Lo siento, me era imposible a esa ...          0.00       0.0   \n",
              "1   Nuestras compañeras Carmen Callejón, responsab...          0.00       0.0   \n",
              "2    delaTorre  Arg, ni niño tiene partido a esa h...          0.00       0.0   \n",
              "3     Se nota la jet set, además de ordenadores te...          0.00       0.0   \n",
              "4          11 Quieres hacer la quedada en la oficina?          0.00       0.0   \n",
              "..                                                ...           ...       ...   \n",
              "95                 For icons, check out . Great list!          0.75       1.0   \n",
              "96  Sencillamente no creo que la admon tenga las h...          0.00       0.0   \n",
              "97  Si al final la respuesta fuese negativa, pagam...          1.00       0.0   \n",
              "98  La UE da un servicio que permite a cualquiera ...          0.00       0.0   \n",
              "99  Otra historia para entender el impacto real de...          0.30       0.2   \n",
              "\n",
              "    Analysis  \n",
              "0       None  \n",
              "1       None  \n",
              "2       None  \n",
              "3       None  \n",
              "4       None  \n",
              "..       ...  \n",
              "95  Positive  \n",
              "96      None  \n",
              "97      None  \n",
              "98      None  \n",
              "99  Positive  \n",
              "\n",
              "[100 rows x 4 columns]"
            ],
            "text/html": [
              "\n",
              "  <div id=\"df-574283a3-bfa3-4708-9175-e955fca16dfa\">\n",
              "    <div class=\"colab-df-container\">\n",
              "      <div>\n",
              "<style scoped>\n",
              "    .dataframe tbody tr th:only-of-type {\n",
              "        vertical-align: middle;\n",
              "    }\n",
              "\n",
              "    .dataframe tbody tr th {\n",
              "        vertical-align: top;\n",
              "    }\n",
              "\n",
              "    .dataframe thead th {\n",
              "        text-align: right;\n",
              "    }\n",
              "</style>\n",
              "<table border=\"1\" class=\"dataframe\">\n",
              "  <thead>\n",
              "    <tr style=\"text-align: right;\">\n",
              "      <th></th>\n",
              "      <th>Tweets</th>\n",
              "      <th>Subjectivity</th>\n",
              "      <th>Polarity</th>\n",
              "      <th>Analysis</th>\n",
              "    </tr>\n",
              "  </thead>\n",
              "  <tbody>\n",
              "    <tr>\n",
              "      <th>0</th>\n",
              "      <td>delaTorre Lo siento, me era imposible a esa ...</td>\n",
              "      <td>0.00</td>\n",
              "      <td>0.0</td>\n",
              "      <td>None</td>\n",
              "    </tr>\n",
              "    <tr>\n",
              "      <th>1</th>\n",
              "      <td>Nuestras compañeras Carmen Callejón, responsab...</td>\n",
              "      <td>0.00</td>\n",
              "      <td>0.0</td>\n",
              "      <td>None</td>\n",
              "    </tr>\n",
              "    <tr>\n",
              "      <th>2</th>\n",
              "      <td>delaTorre  Arg, ni niño tiene partido a esa h...</td>\n",
              "      <td>0.00</td>\n",
              "      <td>0.0</td>\n",
              "      <td>None</td>\n",
              "    </tr>\n",
              "    <tr>\n",
              "      <th>3</th>\n",
              "      <td>Se nota la jet set, además de ordenadores te...</td>\n",
              "      <td>0.00</td>\n",
              "      <td>0.0</td>\n",
              "      <td>None</td>\n",
              "    </tr>\n",
              "    <tr>\n",
              "      <th>4</th>\n",
              "      <td>11 Quieres hacer la quedada en la oficina?</td>\n",
              "      <td>0.00</td>\n",
              "      <td>0.0</td>\n",
              "      <td>None</td>\n",
              "    </tr>\n",
              "    <tr>\n",
              "      <th>...</th>\n",
              "      <td>...</td>\n",
              "      <td>...</td>\n",
              "      <td>...</td>\n",
              "      <td>...</td>\n",
              "    </tr>\n",
              "    <tr>\n",
              "      <th>95</th>\n",
              "      <td>For icons, check out . Great list!</td>\n",
              "      <td>0.75</td>\n",
              "      <td>1.0</td>\n",
              "      <td>Positive</td>\n",
              "    </tr>\n",
              "    <tr>\n",
              "      <th>96</th>\n",
              "      <td>Sencillamente no creo que la admon tenga las h...</td>\n",
              "      <td>0.00</td>\n",
              "      <td>0.0</td>\n",
              "      <td>None</td>\n",
              "    </tr>\n",
              "    <tr>\n",
              "      <th>97</th>\n",
              "      <td>Si al final la respuesta fuese negativa, pagam...</td>\n",
              "      <td>1.00</td>\n",
              "      <td>0.0</td>\n",
              "      <td>None</td>\n",
              "    </tr>\n",
              "    <tr>\n",
              "      <th>98</th>\n",
              "      <td>La UE da un servicio que permite a cualquiera ...</td>\n",
              "      <td>0.00</td>\n",
              "      <td>0.0</td>\n",
              "      <td>None</td>\n",
              "    </tr>\n",
              "    <tr>\n",
              "      <th>99</th>\n",
              "      <td>Otra historia para entender el impacto real de...</td>\n",
              "      <td>0.30</td>\n",
              "      <td>0.2</td>\n",
              "      <td>Positive</td>\n",
              "    </tr>\n",
              "  </tbody>\n",
              "</table>\n",
              "<p>100 rows × 4 columns</p>\n",
              "</div>\n",
              "      <button class=\"colab-df-convert\" onclick=\"convertToInteractive('df-574283a3-bfa3-4708-9175-e955fca16dfa')\"\n",
              "              title=\"Convert this dataframe to an interactive table.\"\n",
              "              style=\"display:none;\">\n",
              "        \n",
              "  <svg xmlns=\"http://www.w3.org/2000/svg\" height=\"24px\"viewBox=\"0 0 24 24\"\n",
              "       width=\"24px\">\n",
              "    <path d=\"M0 0h24v24H0V0z\" fill=\"none\"/>\n",
              "    <path d=\"M18.56 5.44l.94 2.06.94-2.06 2.06-.94-2.06-.94-.94-2.06-.94 2.06-2.06.94zm-11 1L8.5 8.5l.94-2.06 2.06-.94-2.06-.94L8.5 2.5l-.94 2.06-2.06.94zm10 10l.94 2.06.94-2.06 2.06-.94-2.06-.94-.94-2.06-.94 2.06-2.06.94z\"/><path d=\"M17.41 7.96l-1.37-1.37c-.4-.4-.92-.59-1.43-.59-.52 0-1.04.2-1.43.59L10.3 9.45l-7.72 7.72c-.78.78-.78 2.05 0 2.83L4 21.41c.39.39.9.59 1.41.59.51 0 1.02-.2 1.41-.59l7.78-7.78 2.81-2.81c.8-.78.8-2.07 0-2.86zM5.41 20L4 18.59l7.72-7.72 1.47 1.35L5.41 20z\"/>\n",
              "  </svg>\n",
              "      </button>\n",
              "      \n",
              "  <style>\n",
              "    .colab-df-container {\n",
              "      display:flex;\n",
              "      flex-wrap:wrap;\n",
              "      gap: 12px;\n",
              "    }\n",
              "\n",
              "    .colab-df-convert {\n",
              "      background-color: #E8F0FE;\n",
              "      border: none;\n",
              "      border-radius: 50%;\n",
              "      cursor: pointer;\n",
              "      display: none;\n",
              "      fill: #1967D2;\n",
              "      height: 32px;\n",
              "      padding: 0 0 0 0;\n",
              "      width: 32px;\n",
              "    }\n",
              "\n",
              "    .colab-df-convert:hover {\n",
              "      background-color: #E2EBFA;\n",
              "      box-shadow: 0px 1px 2px rgba(60, 64, 67, 0.3), 0px 1px 3px 1px rgba(60, 64, 67, 0.15);\n",
              "      fill: #174EA6;\n",
              "    }\n",
              "\n",
              "    [theme=dark] .colab-df-convert {\n",
              "      background-color: #3B4455;\n",
              "      fill: #D2E3FC;\n",
              "    }\n",
              "\n",
              "    [theme=dark] .colab-df-convert:hover {\n",
              "      background-color: #434B5C;\n",
              "      box-shadow: 0px 1px 3px 1px rgba(0, 0, 0, 0.15);\n",
              "      filter: drop-shadow(0px 1px 2px rgba(0, 0, 0, 0.3));\n",
              "      fill: #FFFFFF;\n",
              "    }\n",
              "  </style>\n",
              "\n",
              "      <script>\n",
              "        const buttonEl =\n",
              "          document.querySelector('#df-574283a3-bfa3-4708-9175-e955fca16dfa button.colab-df-convert');\n",
              "        buttonEl.style.display =\n",
              "          google.colab.kernel.accessAllowed ? 'block' : 'none';\n",
              "\n",
              "        async function convertToInteractive(key) {\n",
              "          const element = document.querySelector('#df-574283a3-bfa3-4708-9175-e955fca16dfa');\n",
              "          const dataTable =\n",
              "            await google.colab.kernel.invokeFunction('convertToInteractive',\n",
              "                                                     [key], {});\n",
              "          if (!dataTable) return;\n",
              "\n",
              "          const docLinkHtml = 'Like what you see? Visit the ' +\n",
              "            '<a target=\"_blank\" href=https://colab.research.google.com/notebooks/data_table.ipynb>data table notebook</a>'\n",
              "            + ' to learn more about interactive tables.';\n",
              "          element.innerHTML = '';\n",
              "          dataTable['output_type'] = 'display_data';\n",
              "          await google.colab.output.renderOutput(dataTable, element);\n",
              "          const docLink = document.createElement('div');\n",
              "          docLink.innerHTML = docLinkHtml;\n",
              "          element.appendChild(docLink);\n",
              "        }\n",
              "      </script>\n",
              "    </div>\n",
              "  </div>\n",
              "  "
            ]
          },
          "metadata": {},
          "execution_count": 210
        }
      ]
    },
    {
      "cell_type": "markdown",
      "source": [
        "Mostramos los tweets positivos siendo el 1ro el mas +"
      ],
      "metadata": {
        "id": "pWcJxB_eTnLM"
      }
    },
    {
      "cell_type": "code",
      "source": [
        "j=1\n",
        "sortedDF = df.sort_values(by=['Polarity'])\n",
        "for i in range(0, sortedDF.shape[0]):\n",
        "  if(sortedDF['Analysis'][i] == 'Positive'):\n",
        "    print(str(j) + ') ' + sortedDF['Tweets'][i])\n",
        "    print()\n",
        "    j += 1"
      ],
      "metadata": {
        "colab": {
          "base_uri": "https://localhost:8080/"
        },
        "id": "RREMaccPH_dj",
        "outputId": "05149cc5-adfa-41fb-d651-faa6beb9dcc1"
      },
      "execution_count": 211,
      "outputs": [
        {
          "output_type": "stream",
          "name": "stdout",
          "text": [
            "1) Today is the perfect day to start creating amazing designs 🚀With Wepik, our free online editor, you can design whatev…\n",
            "\n",
            "2)  bonilla Cuenca... suena noble, no? )\n",
            "\n",
            "3)  bonilla “Normal” no es, a mí me juegan una de esas en mi consejo y me dan ganas de coger la escopeta.\n",
            "\n",
            "4) We are very happy to share with you our brand new Business-to-Business (B2B) landing! 🚀If you need to integrate API @…\n",
            "\n",
            "5) Tremendo, hablan de Dall-E pero ponen imágenes de “Dall-e mini”, que no tiene NADA que ver (ahora se llama craiyon). Acusan en el titular de hacer dibujos sexistas y racistas a un software mirando lo que dibuja otro. ⁦tec⁩ https//t.co/ymBd2YCQAf\n",
            "\n",
            "6)  Love it! Part of the season felt a bit disconnected from previous seasons, but they IMO they tied it pretty well at the end\n",
            "\n",
            "7) Malaga is hosting show, the world's major event on DigitalTransformation, and FreepikCompany could not miss it…\n",
            "\n",
            "8) 🫵 Here are some of the most trending fonts you can find on Freepik’s website for your designs. 🔝 🚀 https//t.co/GCkwTFz7Zl\n",
            "\n",
            "9)  That also works in BigQuery, super handy\n",
            "\n",
            "10)  opinión poco popular y si se habilitan más plazas para que bajen las notas y pueda entrar quién quiera?\n",
            "\n",
            "11) Herrero Today I got one of those amazing phone calls... Really happy and honored to have been elected to the US National Acade…\n",
            "\n",
            "12)    En mis tiempos la de matemáticas era la más difícil. Recuerdo en el verano antes de entrar a la uni ponerme super contento porque había conseguido hacer más de la mitad de un examen de olimpiada. El amigo que me lo había dado me dijo que era de la olimpiada de EGB 🤦🏻‍♂️\n",
            "\n",
            "13) At a certain point EU privacy regulators will realiseWhen an EU citizen requests a US internet resource, they provide…\n",
            "\n",
            "14)        ai   Graphics Icons  Presentation Great list!\n",
            "\n",
            "15)  For icons, check out . Great list!\n",
            "\n",
            "16) Otra historia para entender el impacto real de este tipo de iniciativas. Cuándo quieres cobrarle a un cliente tienes que mostrarle el precio exacto que vas a cobrarle (lógico). Eso requiere que, en tiempo real, puedas comprobar si su CIF está dado de alto en el VIES. https//t.co/RO9mAbZa3U\n",
            "\n"
          ]
        }
      ]
    },
    {
      "cell_type": "markdown",
      "source": [
        "Mostramos los tweets positivos siendo el 1ro el mas -"
      ],
      "metadata": {
        "id": "7azEu5PaT0Ph"
      }
    },
    {
      "cell_type": "code",
      "source": [
        "j=1\n",
        "sortedDF = df.sort_values(by=['Polarity'], ascending=False)\n",
        "for i in range(0, sortedDF.shape[0]):\n",
        "  if(sortedDF['Analysis'][i] == 'Negative'):\n",
        "    print(str(j) + ') ' + sortedDF['Tweets'][i])\n",
        "    print()\n",
        "    j += 1"
      ],
      "metadata": {
        "colab": {
          "base_uri": "https://localhost:8080/"
        },
        "id": "jzZHVeBlIThg",
        "outputId": "2e2e60d3-6685-4c40-ac03-86a9d700bb2c"
      },
      "execution_count": 212,
      "outputs": [
        {
          "output_type": "stream",
          "name": "stdout",
          "text": [
            "1)    These results are surreal. I naively thought the bottleneck was the network. Is really the time spent fetching packages such a little % of total install time in npm/yarn, or is bum doing tricks here to fetch packages faster?\n",
            "\n",
            "2) [SPOILER OBI-WAN]El encuentro entre Darth Vader y Obi Wan ¿no os parece que le quita el sentido a lo que le dice DV a OW en el Ep4? Rollo “la última vez que nos vimos tú eras el maestro y yo el alumno…”\n",
            "\n",
            "3) es   De qué nos estabamos riendo? Only wrong answers…\n",
            "\n",
            "4) GDPR is a rare example to a terrible solution to a problem nobody really had or cared about, that ended up making everythi…\n",
            "\n",
            "5) Wtf?! https//t.co/fHOlhtoOIF\n",
            "\n",
            "6) Brutal la Zona Indie de  en la es de Malaga ❤️ https//t.co/SnGCV8kmjD\n",
            "\n",
            "7) in   That’s not enough. If the server is owned by an american entity the US government can still force the company to hand over the data of the server. The recent rulings in EU are crazy\n",
            "\n"
          ]
        }
      ]
    },
    {
      "cell_type": "markdown",
      "source": [
        "Utilizamos una grafica de analisis de la subjetividad y polaridad"
      ],
      "metadata": {
        "id": "1p-ZrHsGUBPn"
      }
    },
    {
      "cell_type": "code",
      "source": [
        "plt.figure(figsize=(8,6))\n",
        "for i in range(0, df.shape[0]):\n",
        "  plt.scatter(df['Polarity'][i], df['Subjectivity'][i], color='blue')\n",
        "\n",
        "plt.title('Analisis de sentimientos')\n",
        "plt.xlabel('polarity')\n",
        "plt.ylabel('subjectivity')\n",
        "plt.show()"
      ],
      "metadata": {
        "colab": {
          "base_uri": "https://localhost:8080/",
          "height": 441
        },
        "id": "zroAjMeiIXZ3",
        "outputId": "87135085-ef62-48fd-f19e-fe8929181826"
      },
      "execution_count": 213,
      "outputs": [
        {
          "output_type": "display_data",
          "data": {
            "text/plain": [
              "<Figure size 576x432 with 1 Axes>"
            ],
            "image/png": "[encoded data removed]"
          },
          "metadata": {}
        }
      ]
    },
    {
      "cell_type": "markdown",
      "source": [
        "Sacamos un porcentaje de los positivos y negativos"
      ],
      "metadata": {
        "id": "p3JtRkHiUPnc"
      }
    },
    {
      "cell_type": "code",
      "source": [
        "ptweet = df[df.Analysis == 'Positive']\n",
        "pteet = ptweet['Tweets']\n",
        "\n",
        "round(ptweet.shape[0] / df.shape[0] * 100, 1)"
      ],
      "metadata": {
        "colab": {
          "base_uri": "https://localhost:8080/"
        },
        "id": "7vzrFd3zIZND",
        "outputId": "64c071f0-34aa-4a85-d826-e36b48dc0165"
      },
      "execution_count": 214,
      "outputs": [
        {
          "output_type": "execute_result",
          "data": {
            "text/plain": [
              "16.0"
            ]
          },
          "metadata": {},
          "execution_count": 214
        }
      ]
    },
    {
      "cell_type": "code",
      "source": [
        "ntweet = df[df.Analysis == 'Negative']\n",
        "nteet = ntweet['Tweets']\n",
        "\n",
        "round(ntweet.shape[0] / df.shape[0] * 100, 1)"
      ],
      "metadata": {
        "colab": {
          "base_uri": "https://localhost:8080/"
        },
        "id": "mCExK-KlIcap",
        "outputId": "e8406091-b75c-4b31-c4d7-77b6268995ba"
      },
      "execution_count": 215,
      "outputs": [
        {
          "output_type": "execute_result",
          "data": {
            "text/plain": [
              "7.0"
            ]
          },
          "metadata": {},
          "execution_count": 215
        }
      ]
    },
    {
      "cell_type": "markdown",
      "source": [
        "Finalmente graficamos las columnas positivas y negativas"
      ],
      "metadata": {
        "id": "igQl3eSJUZlw"
      }
    },
    {
      "cell_type": "code",
      "source": [
        "df['Analysis'].value_counts()\n",
        "\n",
        "plt.title('Sentiment Analysis')\n",
        "plt.xlabel('Sentiment')\n",
        "plt.ylabel('Counts')\n",
        "df['Analysis'].value_counts().plot(kind='bar')\n",
        "plt.show()"
      ],
      "metadata": {
        "colab": {
          "base_uri": "https://localhost:8080/",
          "height": 374
        },
        "id": "jxg7olaqIfmA",
        "outputId": "e3055da8-ed50-4969-e2ab-077f5354d8fe"
      },
      "execution_count": 216,
      "outputs": [
        {
          "output_type": "display_data",
          "data": {
            "text/plain": [
              "<Figure size 432x288 with 1 Axes>"
            ],
            "image/png": "[encoded data removed]"
          },
          "metadata": {}
        }
      ]
    }
  ]
}